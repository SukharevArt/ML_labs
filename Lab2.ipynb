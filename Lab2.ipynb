{
  "cells": [
    {
      "cell_type": "code",
      "execution_count": 40,
      "id": "b0799809",
      "metadata": {
        "id": "b0799809"
      },
      "outputs": [],
      "source": [
        "import sklearn\n",
        "import sklearn.model_selection\n",
        "import sklearn.neighbors\n",
        "import sklearn.ensemble\n",
        "import numpy as np\n",
        "import pandas as pd\n",
        "import seaborn as sns\n",
        "import matplotlib.pyplot as plt\n",
        "from pandas.plotting import scatter_matrix\n",
        "from sklearn.model_selection import train_test_split\n",
        "from sklearn.neural_network import MLPClassifier\n",
        "from sklearn.metrics import accuracy_score\n",
        "from sklearn.metrics import confusion_matrix\n",
        "%matplotlib inline"
      ]
    },
    {
      "cell_type": "markdown",
      "id": "d3439f75",
      "metadata": {
        "id": "d3439f75"
      },
      "source": [
        "# Fake job. Обучение нейронной сети\n",
        "Задача заключается в определении по имеющимся данным настоящее объявление о работе или нет. Обучить на данных полносвязную (неглубокую) нейронную сеть"
      ]
    },
    {
      "cell_type": "markdown",
      "id": "b9d05fce",
      "metadata": {
        "id": "b9d05fce"
      },
      "source": [
        "## Загрузка датасета"
      ]
    },
    {
      "cell_type": "markdown",
      "id": "ff9abfff",
      "metadata": {
        "id": "ff9abfff"
      },
      "source": [
        "Используем подготовленный датасет из пред. задания:"
      ]
    },
    {
      "cell_type": "code",
      "execution_count": 41,
      "id": "68b8342d",
      "metadata": {
        "scrolled": true,
        "id": "68b8342d"
      },
      "outputs": [],
      "source": [
        "data = pd.read_csv('fake_job_data_norm.csv', index_col=[0])\n",
        "data.reset_index(drop=True, inplace=True)"
      ]
    },
    {
      "cell_type": "code",
      "execution_count": 42,
      "id": "aa419011",
      "metadata": {
        "scrolled": false,
        "colab": {
          "base_uri": "https://localhost:8080/",
          "height": 443
        },
        "id": "aa419011",
        "outputId": "32f771b5-1e67-42b5-81ab-cb0253288741"
      },
      "outputs": [
        {
          "output_type": "execute_result",
          "data": {
            "text/plain": [
              "      telecommuting  has_company_logo  has_questions  employment_type  \\\n",
              "0               0.0               1.0            0.0             0.25   \n",
              "1               0.0               1.0            1.0             0.25   \n",
              "2               0.0               1.0            1.0             0.25   \n",
              "3               0.0               1.0            0.0             0.75   \n",
              "4               0.0               0.0            0.0             0.25   \n",
              "...             ...               ...            ...              ...   \n",
              "8129            0.0               1.0            0.0             0.25   \n",
              "8130            0.0               1.0            1.0             0.25   \n",
              "8131            0.0               0.0            0.0             0.25   \n",
              "8132            0.0               1.0            1.0             0.25   \n",
              "8133            0.0               0.0            1.0             0.00   \n",
              "\n",
              "      required_experience  required_education  industry  function  fraudulent  \n",
              "0                0.833333            0.083333  0.170543  0.861111         0.0  \n",
              "1                0.833333            0.083333  0.387597  0.444444         0.0  \n",
              "2                0.833333            0.416667  0.682171  0.555556         0.0  \n",
              "3                0.333333            0.333333  0.302326  0.194444         0.0  \n",
              "4                0.833333            0.083333  0.441860  0.500000         0.0  \n",
              "...                   ...                 ...       ...       ...         ...  \n",
              "8129             0.333333            0.750000  0.403101  0.861111         0.0  \n",
              "8130             0.833333            0.083333  0.860465  0.388889         0.0  \n",
              "8131             0.833333            0.083333  0.170543  0.500000         0.0  \n",
              "8132             0.833333            0.083333  0.465116  0.000000         0.0  \n",
              "8133             1.000000            0.500000  0.364341  0.250000         0.0  \n",
              "\n",
              "[8134 rows x 9 columns]"
            ],
            "text/html": [
              "\n",
              "  <div id=\"df-da1434a7-4b85-4e91-8bf8-48b0b26fc8a0\" class=\"colab-df-container\">\n",
              "    <div>\n",
              "<style scoped>\n",
              "    .dataframe tbody tr th:only-of-type {\n",
              "        vertical-align: middle;\n",
              "    }\n",
              "\n",
              "    .dataframe tbody tr th {\n",
              "        vertical-align: top;\n",
              "    }\n",
              "\n",
              "    .dataframe thead th {\n",
              "        text-align: right;\n",
              "    }\n",
              "</style>\n",
              "<table border=\"1\" class=\"dataframe\">\n",
              "  <thead>\n",
              "    <tr style=\"text-align: right;\">\n",
              "      <th></th>\n",
              "      <th>telecommuting</th>\n",
              "      <th>has_company_logo</th>\n",
              "      <th>has_questions</th>\n",
              "      <th>employment_type</th>\n",
              "      <th>required_experience</th>\n",
              "      <th>required_education</th>\n",
              "      <th>industry</th>\n",
              "      <th>function</th>\n",
              "      <th>fraudulent</th>\n",
              "    </tr>\n",
              "  </thead>\n",
              "  <tbody>\n",
              "    <tr>\n",
              "      <th>0</th>\n",
              "      <td>0.0</td>\n",
              "      <td>1.0</td>\n",
              "      <td>0.0</td>\n",
              "      <td>0.25</td>\n",
              "      <td>0.833333</td>\n",
              "      <td>0.083333</td>\n",
              "      <td>0.170543</td>\n",
              "      <td>0.861111</td>\n",
              "      <td>0.0</td>\n",
              "    </tr>\n",
              "    <tr>\n",
              "      <th>1</th>\n",
              "      <td>0.0</td>\n",
              "      <td>1.0</td>\n",
              "      <td>1.0</td>\n",
              "      <td>0.25</td>\n",
              "      <td>0.833333</td>\n",
              "      <td>0.083333</td>\n",
              "      <td>0.387597</td>\n",
              "      <td>0.444444</td>\n",
              "      <td>0.0</td>\n",
              "    </tr>\n",
              "    <tr>\n",
              "      <th>2</th>\n",
              "      <td>0.0</td>\n",
              "      <td>1.0</td>\n",
              "      <td>1.0</td>\n",
              "      <td>0.25</td>\n",
              "      <td>0.833333</td>\n",
              "      <td>0.416667</td>\n",
              "      <td>0.682171</td>\n",
              "      <td>0.555556</td>\n",
              "      <td>0.0</td>\n",
              "    </tr>\n",
              "    <tr>\n",
              "      <th>3</th>\n",
              "      <td>0.0</td>\n",
              "      <td>1.0</td>\n",
              "      <td>0.0</td>\n",
              "      <td>0.75</td>\n",
              "      <td>0.333333</td>\n",
              "      <td>0.333333</td>\n",
              "      <td>0.302326</td>\n",
              "      <td>0.194444</td>\n",
              "      <td>0.0</td>\n",
              "    </tr>\n",
              "    <tr>\n",
              "      <th>4</th>\n",
              "      <td>0.0</td>\n",
              "      <td>0.0</td>\n",
              "      <td>0.0</td>\n",
              "      <td>0.25</td>\n",
              "      <td>0.833333</td>\n",
              "      <td>0.083333</td>\n",
              "      <td>0.441860</td>\n",
              "      <td>0.500000</td>\n",
              "      <td>0.0</td>\n",
              "    </tr>\n",
              "    <tr>\n",
              "      <th>...</th>\n",
              "      <td>...</td>\n",
              "      <td>...</td>\n",
              "      <td>...</td>\n",
              "      <td>...</td>\n",
              "      <td>...</td>\n",
              "      <td>...</td>\n",
              "      <td>...</td>\n",
              "      <td>...</td>\n",
              "      <td>...</td>\n",
              "    </tr>\n",
              "    <tr>\n",
              "      <th>8129</th>\n",
              "      <td>0.0</td>\n",
              "      <td>1.0</td>\n",
              "      <td>0.0</td>\n",
              "      <td>0.25</td>\n",
              "      <td>0.333333</td>\n",
              "      <td>0.750000</td>\n",
              "      <td>0.403101</td>\n",
              "      <td>0.861111</td>\n",
              "      <td>0.0</td>\n",
              "    </tr>\n",
              "    <tr>\n",
              "      <th>8130</th>\n",
              "      <td>0.0</td>\n",
              "      <td>1.0</td>\n",
              "      <td>1.0</td>\n",
              "      <td>0.25</td>\n",
              "      <td>0.833333</td>\n",
              "      <td>0.083333</td>\n",
              "      <td>0.860465</td>\n",
              "      <td>0.388889</td>\n",
              "      <td>0.0</td>\n",
              "    </tr>\n",
              "    <tr>\n",
              "      <th>8131</th>\n",
              "      <td>0.0</td>\n",
              "      <td>0.0</td>\n",
              "      <td>0.0</td>\n",
              "      <td>0.25</td>\n",
              "      <td>0.833333</td>\n",
              "      <td>0.083333</td>\n",
              "      <td>0.170543</td>\n",
              "      <td>0.500000</td>\n",
              "      <td>0.0</td>\n",
              "    </tr>\n",
              "    <tr>\n",
              "      <th>8132</th>\n",
              "      <td>0.0</td>\n",
              "      <td>1.0</td>\n",
              "      <td>1.0</td>\n",
              "      <td>0.25</td>\n",
              "      <td>0.833333</td>\n",
              "      <td>0.083333</td>\n",
              "      <td>0.465116</td>\n",
              "      <td>0.000000</td>\n",
              "      <td>0.0</td>\n",
              "    </tr>\n",
              "    <tr>\n",
              "      <th>8133</th>\n",
              "      <td>0.0</td>\n",
              "      <td>0.0</td>\n",
              "      <td>1.0</td>\n",
              "      <td>0.00</td>\n",
              "      <td>1.000000</td>\n",
              "      <td>0.500000</td>\n",
              "      <td>0.364341</td>\n",
              "      <td>0.250000</td>\n",
              "      <td>0.0</td>\n",
              "    </tr>\n",
              "  </tbody>\n",
              "</table>\n",
              "<p>8134 rows × 9 columns</p>\n",
              "</div>\n",
              "    <div class=\"colab-df-buttons\">\n",
              "\n",
              "  <div class=\"colab-df-container\">\n",
              "    <button class=\"colab-df-convert\" onclick=\"convertToInteractive('df-da1434a7-4b85-4e91-8bf8-48b0b26fc8a0')\"\n",
              "            title=\"Convert this dataframe to an interactive table.\"\n",
              "            style=\"display:none;\">\n",
              "\n",
              "  <svg xmlns=\"http://www.w3.org/2000/svg\" height=\"24px\" viewBox=\"0 -960 960 960\">\n",
              "    <path d=\"M120-120v-720h720v720H120Zm60-500h600v-160H180v160Zm220 220h160v-160H400v160Zm0 220h160v-160H400v160ZM180-400h160v-160H180v160Zm440 0h160v-160H620v160ZM180-180h160v-160H180v160Zm440 0h160v-160H620v160Z\"/>\n",
              "  </svg>\n",
              "    </button>\n",
              "\n",
              "  <style>\n",
              "    .colab-df-container {\n",
              "      display:flex;\n",
              "      gap: 12px;\n",
              "    }\n",
              "\n",
              "    .colab-df-convert {\n",
              "      background-color: #E8F0FE;\n",
              "      border: none;\n",
              "      border-radius: 50%;\n",
              "      cursor: pointer;\n",
              "      display: none;\n",
              "      fill: #1967D2;\n",
              "      height: 32px;\n",
              "      padding: 0 0 0 0;\n",
              "      width: 32px;\n",
              "    }\n",
              "\n",
              "    .colab-df-convert:hover {\n",
              "      background-color: #E2EBFA;\n",
              "      box-shadow: 0px 1px 2px rgba(60, 64, 67, 0.3), 0px 1px 3px 1px rgba(60, 64, 67, 0.15);\n",
              "      fill: #174EA6;\n",
              "    }\n",
              "\n",
              "    .colab-df-buttons div {\n",
              "      margin-bottom: 4px;\n",
              "    }\n",
              "\n",
              "    [theme=dark] .colab-df-convert {\n",
              "      background-color: #3B4455;\n",
              "      fill: #D2E3FC;\n",
              "    }\n",
              "\n",
              "    [theme=dark] .colab-df-convert:hover {\n",
              "      background-color: #434B5C;\n",
              "      box-shadow: 0px 1px 3px 1px rgba(0, 0, 0, 0.15);\n",
              "      filter: drop-shadow(0px 1px 2px rgba(0, 0, 0, 0.3));\n",
              "      fill: #FFFFFF;\n",
              "    }\n",
              "  </style>\n",
              "\n",
              "    <script>\n",
              "      const buttonEl =\n",
              "        document.querySelector('#df-da1434a7-4b85-4e91-8bf8-48b0b26fc8a0 button.colab-df-convert');\n",
              "      buttonEl.style.display =\n",
              "        google.colab.kernel.accessAllowed ? 'block' : 'none';\n",
              "\n",
              "      async function convertToInteractive(key) {\n",
              "        const element = document.querySelector('#df-da1434a7-4b85-4e91-8bf8-48b0b26fc8a0');\n",
              "        const dataTable =\n",
              "          await google.colab.kernel.invokeFunction('convertToInteractive',\n",
              "                                                    [key], {});\n",
              "        if (!dataTable) return;\n",
              "\n",
              "        const docLinkHtml = 'Like what you see? Visit the ' +\n",
              "          '<a target=\"_blank\" href=https://colab.research.google.com/notebooks/data_table.ipynb>data table notebook</a>'\n",
              "          + ' to learn more about interactive tables.';\n",
              "        element.innerHTML = '';\n",
              "        dataTable['output_type'] = 'display_data';\n",
              "        await google.colab.output.renderOutput(dataTable, element);\n",
              "        const docLink = document.createElement('div');\n",
              "        docLink.innerHTML = docLinkHtml;\n",
              "        element.appendChild(docLink);\n",
              "      }\n",
              "    </script>\n",
              "  </div>\n",
              "\n",
              "\n",
              "<div id=\"df-9dc5bc3d-22be-41a0-8ec3-edeb7268bdef\">\n",
              "  <button class=\"colab-df-quickchart\" onclick=\"quickchart('df-9dc5bc3d-22be-41a0-8ec3-edeb7268bdef')\"\n",
              "            title=\"Suggest charts\"\n",
              "            style=\"display:none;\">\n",
              "\n",
              "<svg xmlns=\"http://www.w3.org/2000/svg\" height=\"24px\"viewBox=\"0 0 24 24\"\n",
              "     width=\"24px\">\n",
              "    <g>\n",
              "        <path d=\"M19 3H5c-1.1 0-2 .9-2 2v14c0 1.1.9 2 2 2h14c1.1 0 2-.9 2-2V5c0-1.1-.9-2-2-2zM9 17H7v-7h2v7zm4 0h-2V7h2v10zm4 0h-2v-4h2v4z\"/>\n",
              "    </g>\n",
              "</svg>\n",
              "  </button>\n",
              "\n",
              "<style>\n",
              "  .colab-df-quickchart {\n",
              "      --bg-color: #E8F0FE;\n",
              "      --fill-color: #1967D2;\n",
              "      --hover-bg-color: #E2EBFA;\n",
              "      --hover-fill-color: #174EA6;\n",
              "      --disabled-fill-color: #AAA;\n",
              "      --disabled-bg-color: #DDD;\n",
              "  }\n",
              "\n",
              "  [theme=dark] .colab-df-quickchart {\n",
              "      --bg-color: #3B4455;\n",
              "      --fill-color: #D2E3FC;\n",
              "      --hover-bg-color: #434B5C;\n",
              "      --hover-fill-color: #FFFFFF;\n",
              "      --disabled-bg-color: #3B4455;\n",
              "      --disabled-fill-color: #666;\n",
              "  }\n",
              "\n",
              "  .colab-df-quickchart {\n",
              "    background-color: var(--bg-color);\n",
              "    border: none;\n",
              "    border-radius: 50%;\n",
              "    cursor: pointer;\n",
              "    display: none;\n",
              "    fill: var(--fill-color);\n",
              "    height: 32px;\n",
              "    padding: 0;\n",
              "    width: 32px;\n",
              "  }\n",
              "\n",
              "  .colab-df-quickchart:hover {\n",
              "    background-color: var(--hover-bg-color);\n",
              "    box-shadow: 0 1px 2px rgba(60, 64, 67, 0.3), 0 1px 3px 1px rgba(60, 64, 67, 0.15);\n",
              "    fill: var(--button-hover-fill-color);\n",
              "  }\n",
              "\n",
              "  .colab-df-quickchart-complete:disabled,\n",
              "  .colab-df-quickchart-complete:disabled:hover {\n",
              "    background-color: var(--disabled-bg-color);\n",
              "    fill: var(--disabled-fill-color);\n",
              "    box-shadow: none;\n",
              "  }\n",
              "\n",
              "  .colab-df-spinner {\n",
              "    border: 2px solid var(--fill-color);\n",
              "    border-color: transparent;\n",
              "    border-bottom-color: var(--fill-color);\n",
              "    animation:\n",
              "      spin 1s steps(1) infinite;\n",
              "  }\n",
              "\n",
              "  @keyframes spin {\n",
              "    0% {\n",
              "      border-color: transparent;\n",
              "      border-bottom-color: var(--fill-color);\n",
              "      border-left-color: var(--fill-color);\n",
              "    }\n",
              "    20% {\n",
              "      border-color: transparent;\n",
              "      border-left-color: var(--fill-color);\n",
              "      border-top-color: var(--fill-color);\n",
              "    }\n",
              "    30% {\n",
              "      border-color: transparent;\n",
              "      border-left-color: var(--fill-color);\n",
              "      border-top-color: var(--fill-color);\n",
              "      border-right-color: var(--fill-color);\n",
              "    }\n",
              "    40% {\n",
              "      border-color: transparent;\n",
              "      border-right-color: var(--fill-color);\n",
              "      border-top-color: var(--fill-color);\n",
              "    }\n",
              "    60% {\n",
              "      border-color: transparent;\n",
              "      border-right-color: var(--fill-color);\n",
              "    }\n",
              "    80% {\n",
              "      border-color: transparent;\n",
              "      border-right-color: var(--fill-color);\n",
              "      border-bottom-color: var(--fill-color);\n",
              "    }\n",
              "    90% {\n",
              "      border-color: transparent;\n",
              "      border-bottom-color: var(--fill-color);\n",
              "    }\n",
              "  }\n",
              "</style>\n",
              "\n",
              "  <script>\n",
              "    async function quickchart(key) {\n",
              "      const quickchartButtonEl =\n",
              "        document.querySelector('#' + key + ' button');\n",
              "      quickchartButtonEl.disabled = true;  // To prevent multiple clicks.\n",
              "      quickchartButtonEl.classList.add('colab-df-spinner');\n",
              "      try {\n",
              "        const charts = await google.colab.kernel.invokeFunction(\n",
              "            'suggestCharts', [key], {});\n",
              "      } catch (error) {\n",
              "        console.error('Error during call to suggestCharts:', error);\n",
              "      }\n",
              "      quickchartButtonEl.classList.remove('colab-df-spinner');\n",
              "      quickchartButtonEl.classList.add('colab-df-quickchart-complete');\n",
              "    }\n",
              "    (() => {\n",
              "      let quickchartButtonEl =\n",
              "        document.querySelector('#df-9dc5bc3d-22be-41a0-8ec3-edeb7268bdef button');\n",
              "      quickchartButtonEl.style.display =\n",
              "        google.colab.kernel.accessAllowed ? 'block' : 'none';\n",
              "    })();\n",
              "  </script>\n",
              "</div>\n",
              "    </div>\n",
              "  </div>\n"
            ]
          },
          "metadata": {},
          "execution_count": 42
        }
      ],
      "source": [
        "data"
      ]
    },
    {
      "cell_type": "markdown",
      "id": "a3d3cf44",
      "metadata": {
        "id": "a3d3cf44"
      },
      "source": [
        "## Подготовка выборки"
      ]
    },
    {
      "cell_type": "markdown",
      "id": "0aa930a2",
      "metadata": {
        "id": "0aa930a2"
      },
      "source": [
        "Разобьем данные на обучающую и тестовую выборки - 60% и 40%.\n",
        "\n",
        "Из-за несбалансированности классов используем оверсэмплинг недостающего класса."
      ]
    },
    {
      "cell_type": "code",
      "execution_count": 43,
      "id": "52a93a5b",
      "metadata": {
        "id": "52a93a5b"
      },
      "outputs": [],
      "source": [
        "y=data['fraudulent']\n",
        "\n",
        "X = data.drop(['fraudulent'],axis=1)\n",
        "\n",
        "from imblearn.over_sampling import RandomOverSampler\n",
        "rs=RandomOverSampler(sampling_strategy='minority')\n",
        "X_over,y_over=rs.fit_resample(X,y)\n",
        "X_over.describe()\n",
        "y_over.describe()\n",
        "\n",
        "from sklearn.model_selection import train_test_split\n",
        "X_train, X_test, y_train, y_test = train_test_split(X_over, y_over, test_size = 0.4, random_state = 12)"
      ]
    },
    {
      "cell_type": "markdown",
      "id": "77881e79",
      "metadata": {
        "id": "77881e79"
      },
      "source": [
        "## Обучаем классификатор"
      ]
    },
    {
      "cell_type": "code",
      "execution_count": 44,
      "id": "823e2e49",
      "metadata": {
        "id": "823e2e49"
      },
      "outputs": [],
      "source": [
        "mlp_model = MLPClassifier(hidden_layer_sizes = (15,),\n",
        "                          solver = 'lbfgs',\n",
        "                          activation = 'logistic',\n",
        "                          random_state = 42,\n",
        "                          max_iter=5000)"
      ]
    },
    {
      "cell_type": "code",
      "execution_count": 45,
      "id": "65f66242",
      "metadata": {
        "colab": {
          "base_uri": "https://localhost:8080/",
          "height": 127
        },
        "id": "65f66242",
        "outputId": "fd01e86b-121f-4c84-a8db-2d210378800e"
      },
      "outputs": [
        {
          "output_type": "stream",
          "name": "stdout",
          "text": [
            "CPU times: user 11.9 s, sys: 8.27 s, total: 20.2 s\n",
            "Wall time: 11.7 s\n"
          ]
        },
        {
          "output_type": "execute_result",
          "data": {
            "text/plain": [
              "MLPClassifier(activation='logistic', hidden_layer_sizes=(15,), max_iter=5000,\n",
              "              random_state=42, solver='lbfgs')"
            ],
            "text/html": [
              "<style>#sk-container-id-2 {color: black;background-color: white;}#sk-container-id-2 pre{padding: 0;}#sk-container-id-2 div.sk-toggleable {background-color: white;}#sk-container-id-2 label.sk-toggleable__label {cursor: pointer;display: block;width: 100%;margin-bottom: 0;padding: 0.3em;box-sizing: border-box;text-align: center;}#sk-container-id-2 label.sk-toggleable__label-arrow:before {content: \"▸\";float: left;margin-right: 0.25em;color: #696969;}#sk-container-id-2 label.sk-toggleable__label-arrow:hover:before {color: black;}#sk-container-id-2 div.sk-estimator:hover label.sk-toggleable__label-arrow:before {color: black;}#sk-container-id-2 div.sk-toggleable__content {max-height: 0;max-width: 0;overflow: hidden;text-align: left;background-color: #f0f8ff;}#sk-container-id-2 div.sk-toggleable__content pre {margin: 0.2em;color: black;border-radius: 0.25em;background-color: #f0f8ff;}#sk-container-id-2 input.sk-toggleable__control:checked~div.sk-toggleable__content {max-height: 200px;max-width: 100%;overflow: auto;}#sk-container-id-2 input.sk-toggleable__control:checked~label.sk-toggleable__label-arrow:before {content: \"▾\";}#sk-container-id-2 div.sk-estimator input.sk-toggleable__control:checked~label.sk-toggleable__label {background-color: #d4ebff;}#sk-container-id-2 div.sk-label input.sk-toggleable__control:checked~label.sk-toggleable__label {background-color: #d4ebff;}#sk-container-id-2 input.sk-hidden--visually {border: 0;clip: rect(1px 1px 1px 1px);clip: rect(1px, 1px, 1px, 1px);height: 1px;margin: -1px;overflow: hidden;padding: 0;position: absolute;width: 1px;}#sk-container-id-2 div.sk-estimator {font-family: monospace;background-color: #f0f8ff;border: 1px dotted black;border-radius: 0.25em;box-sizing: border-box;margin-bottom: 0.5em;}#sk-container-id-2 div.sk-estimator:hover {background-color: #d4ebff;}#sk-container-id-2 div.sk-parallel-item::after {content: \"\";width: 100%;border-bottom: 1px solid gray;flex-grow: 1;}#sk-container-id-2 div.sk-label:hover label.sk-toggleable__label {background-color: #d4ebff;}#sk-container-id-2 div.sk-serial::before {content: \"\";position: absolute;border-left: 1px solid gray;box-sizing: border-box;top: 0;bottom: 0;left: 50%;z-index: 0;}#sk-container-id-2 div.sk-serial {display: flex;flex-direction: column;align-items: center;background-color: white;padding-right: 0.2em;padding-left: 0.2em;position: relative;}#sk-container-id-2 div.sk-item {position: relative;z-index: 1;}#sk-container-id-2 div.sk-parallel {display: flex;align-items: stretch;justify-content: center;background-color: white;position: relative;}#sk-container-id-2 div.sk-item::before, #sk-container-id-2 div.sk-parallel-item::before {content: \"\";position: absolute;border-left: 1px solid gray;box-sizing: border-box;top: 0;bottom: 0;left: 50%;z-index: -1;}#sk-container-id-2 div.sk-parallel-item {display: flex;flex-direction: column;z-index: 1;position: relative;background-color: white;}#sk-container-id-2 div.sk-parallel-item:first-child::after {align-self: flex-end;width: 50%;}#sk-container-id-2 div.sk-parallel-item:last-child::after {align-self: flex-start;width: 50%;}#sk-container-id-2 div.sk-parallel-item:only-child::after {width: 0;}#sk-container-id-2 div.sk-dashed-wrapped {border: 1px dashed gray;margin: 0 0.4em 0.5em 0.4em;box-sizing: border-box;padding-bottom: 0.4em;background-color: white;}#sk-container-id-2 div.sk-label label {font-family: monospace;font-weight: bold;display: inline-block;line-height: 1.2em;}#sk-container-id-2 div.sk-label-container {text-align: center;}#sk-container-id-2 div.sk-container {/* jupyter's `normalize.less` sets `[hidden] { display: none; }` but bootstrap.min.css set `[hidden] { display: none !important; }` so we also need the `!important` here to be able to override the default hidden behavior on the sphinx rendered scikit-learn.org. See: https://github.com/scikit-learn/scikit-learn/issues/21755 */display: inline-block !important;position: relative;}#sk-container-id-2 div.sk-text-repr-fallback {display: none;}</style><div id=\"sk-container-id-2\" class=\"sk-top-container\"><div class=\"sk-text-repr-fallback\"><pre>MLPClassifier(activation=&#x27;logistic&#x27;, hidden_layer_sizes=(15,), max_iter=5000,\n",
              "              random_state=42, solver=&#x27;lbfgs&#x27;)</pre><b>In a Jupyter environment, please rerun this cell to show the HTML representation or trust the notebook. <br />On GitHub, the HTML representation is unable to render, please try loading this page with nbviewer.org.</b></div><div class=\"sk-container\" hidden><div class=\"sk-item\"><div class=\"sk-estimator sk-toggleable\"><input class=\"sk-toggleable__control sk-hidden--visually\" id=\"sk-estimator-id-2\" type=\"checkbox\" checked><label for=\"sk-estimator-id-2\" class=\"sk-toggleable__label sk-toggleable__label-arrow\">MLPClassifier</label><div class=\"sk-toggleable__content\"><pre>MLPClassifier(activation=&#x27;logistic&#x27;, hidden_layer_sizes=(15,), max_iter=5000,\n",
              "              random_state=42, solver=&#x27;lbfgs&#x27;)</pre></div></div></div></div></div>"
            ]
          },
          "metadata": {},
          "execution_count": 45
        }
      ],
      "source": [
        "%%time\n",
        "mlp_model.fit(X_train, y_train)"
      ]
    },
    {
      "cell_type": "code",
      "execution_count": 46,
      "id": "e843cd79",
      "metadata": {
        "colab": {
          "base_uri": "https://localhost:8080/"
        },
        "id": "e843cd79",
        "outputId": "ed38deaf-f6c3-4d64-df25-78f15c201efb"
      },
      "outputs": [
        {
          "output_type": "execute_result",
          "data": {
            "text/plain": [
              "0.8896861947092214"
            ]
          },
          "metadata": {},
          "execution_count": 46
        }
      ],
      "source": [
        "y_train_pred = mlp_model.predict(X_train)\n",
        "y_test_pred = mlp_model.predict(X_test)\n",
        "\n",
        "y_train_pred = mlp_model.predict(X_train)\n",
        "y_test_pred = mlp_model.predict(X_test)\n",
        "\n",
        "from sklearn.metrics import accuracy_score\n",
        "\n",
        "accuracy_score(y_train, y_train_pred)"
      ]
    },
    {
      "cell_type": "code",
      "execution_count": 47,
      "id": "8dd5de4f",
      "metadata": {
        "colab": {
          "base_uri": "https://localhost:8080/"
        },
        "id": "8dd5de4f",
        "outputId": "8ff9422f-89a1-4807-c97a-8464d65a1ca5"
      },
      "outputs": [
        {
          "output_type": "execute_result",
          "data": {
            "text/plain": [
              "0.8745381526104418"
            ]
          },
          "metadata": {},
          "execution_count": 47
        }
      ],
      "source": [
        "accuracy_score(y_test, y_test_pred)"
      ]
    },
    {
      "cell_type": "markdown",
      "id": "bd9d6ee3",
      "metadata": {
        "id": "bd9d6ee3"
      },
      "source": [
        "## Подбор гиперпараметров"
      ]
    },
    {
      "cell_type": "markdown",
      "id": "ece3b711",
      "metadata": {
        "id": "ece3b711"
      },
      "source": [
        "Найдем оптимальное значение параметра регуляризации alpha"
      ]
    },
    {
      "cell_type": "code",
      "execution_count": 48,
      "id": "c3333d7e",
      "metadata": {
        "id": "c3333d7e"
      },
      "outputs": [],
      "source": [
        "alpha_arr = np.logspace(-3, 2, 20)\n",
        "test_err = []\n",
        "train_err = []\n",
        "train_acc = []\n",
        "test_acc = []\n",
        "\n",
        "for alpha in alpha_arr:\n",
        "    mlp_model = MLPClassifier(alpha = alpha, hidden_layer_sizes = (10,),\n",
        "                              solver = 'lbfgs',\n",
        "                              activation = 'logistic',\n",
        "                              max_iter=5000,\n",
        "                              random_state = 40)\n",
        "    mlp_model.fit(X_train, y_train)\n",
        "\n",
        "    y_train_pred = mlp_model.predict(X_train)\n",
        "    y_test_pred = mlp_model.predict(X_test)\n",
        "\n",
        "    train_err.append(np.mean(y_train != y_train_pred))\n",
        "    test_err.append(np.mean(y_test != y_test_pred))\n",
        "    train_acc.append(accuracy_score(y_train, y_train_pred))\n",
        "    test_acc.append(accuracy_score(y_test, y_test_pred))"
      ]
    },
    {
      "cell_type": "code",
      "execution_count": 49,
      "id": "ad22997b",
      "metadata": {
        "colab": {
          "base_uri": "https://localhost:8080/",
          "height": 494
        },
        "id": "ad22997b",
        "outputId": "868aace7-9615-4695-985d-7a2b7a14274d"
      },
      "outputs": [
        {
          "output_type": "execute_result",
          "data": {
            "text/plain": [
              "<matplotlib.legend.Legend at 0x7d086479aec0>"
            ]
          },
          "metadata": {},
          "execution_count": 49
        },
        {
          "output_type": "display_data",
          "data": {
            "text/plain": [
              "<Figure size 640x480 with 1 Axes>"
            ],
            "image/png": "[encoded data removed]"
          },
          "metadata": {}
        }
      ],
      "source": [
        "plt.semilogx(alpha_arr, train_err, 'b-o', label = 'train')\n",
        "plt.semilogx(alpha_arr, test_err, 'r-o', label = 'test')\n",
        "plt.xlim([np.min(alpha_arr), np.max(alpha_arr)])\n",
        "plt.title('Error vs. alpha')\n",
        "plt.xlabel('alpha')\n",
        "plt.ylabel('error')\n",
        "plt.legend()"
      ]
    },
    {
      "cell_type": "code",
      "execution_count": 50,
      "id": "957dac4c",
      "metadata": {
        "scrolled": true,
        "colab": {
          "base_uri": "https://localhost:8080/",
          "height": 494
        },
        "id": "957dac4c",
        "outputId": "c2368e8f-35e2-4b99-a63f-a8648739110e"
      },
      "outputs": [
        {
          "output_type": "execute_result",
          "data": {
            "text/plain": [
              "<matplotlib.legend.Legend at 0x7d086173efb0>"
            ]
          },
          "metadata": {},
          "execution_count": 50
        },
        {
          "output_type": "display_data",
          "data": {
            "text/plain": [
              "<Figure size 640x480 with 1 Axes>"
            ],
            "image/png": "[encoded data removed]"
          },
          "metadata": {}
        }
      ],
      "source": [
        "plt.semilogx(alpha_arr, train_acc, 'r-o', label = 'train')\n",
        "plt.semilogx(alpha_arr, test_acc, 'b-o', label = 'test')\n",
        "plt.xlim([np.min(alpha_arr), np.max(alpha_arr)])\n",
        "plt.title('Accuracy vs. alpha')\n",
        "plt.xlabel('alpha')\n",
        "plt.ylabel('Accuracy')\n",
        "plt.legend()"
      ]
    },
    {
      "cell_type": "markdown",
      "id": "3e76805f",
      "metadata": {
        "id": "3e76805f"
      },
      "source": [
        "Наибольшая точность при небольших значениях параметра"
      ]
    },
    {
      "cell_type": "code",
      "execution_count": 51,
      "id": "cf4544bd",
      "metadata": {
        "colab": {
          "base_uri": "https://localhost:8080/"
        },
        "id": "cf4544bd",
        "outputId": "5c04cdab-7d0b-47d9-ce60-a657323a5d7c"
      },
      "outputs": [
        {
          "output_type": "stream",
          "name": "stdout",
          "text": [
            "Минимальное значение ошибки: 0.1346256827674842 0.1410441767068273\n"
          ]
        }
      ],
      "source": [
        "min_train_err = np.min(train_err)\n",
        "min_test_err = np.min(test_err)\n",
        "print('Минимальное значение ошибки:',min_train_err, min_test_err)"
      ]
    },
    {
      "cell_type": "code",
      "execution_count": 52,
      "id": "a5786a89",
      "metadata": {
        "scrolled": false,
        "colab": {
          "base_uri": "https://localhost:8080/"
        },
        "id": "a5786a89",
        "outputId": "24948c35-8c57-4535-c7da-3e6c80309417"
      },
      "outputs": [
        {
          "output_type": "stream",
          "name": "stdout",
          "text": [
            "Оптимальное значение alpha: 0.006158482110660267\n"
          ]
        }
      ],
      "source": [
        "alpha_opt = alpha_arr[test_err == min_test_err][0]\n",
        "print('Оптимальное значение alpha:',alpha_opt)"
      ]
    },
    {
      "cell_type": "markdown",
      "id": "f7ef7517",
      "metadata": {
        "id": "f7ef7517"
      },
      "source": [
        "## Подбор количества нейронов"
      ]
    },
    {
      "cell_type": "markdown",
      "id": "b4409440",
      "metadata": {
        "id": "b4409440"
      },
      "source": [
        "Подберем оптимальное количество нейронов в нейронной сети при оптимальном значении alpha"
      ]
    },
    {
      "cell_type": "code",
      "execution_count": 53,
      "id": "9ec00248",
      "metadata": {
        "id": "9ec00248"
      },
      "outputs": [],
      "source": [
        "neuron_arr = (np.linspace(1, 50, 15)).astype(int)\n",
        "test_err = []\n",
        "train_err = []\n",
        "train_acc = []\n",
        "test_acc = []\n",
        "\n",
        "for neuron in neuron_arr:\n",
        "    mlp_model = MLPClassifier(alpha = alpha_opt, hidden_layer_sizes = (neuron,),\n",
        "                              solver = 'lbfgs',\n",
        "                              activation = 'logistic',\n",
        "                              max_iter=50000,\n",
        "                              random_state = 13)\n",
        "    mlp_model.fit(X_train, y_train)\n",
        "\n",
        "    y_train_pred = mlp_model.predict(X_train)\n",
        "    y_test_pred = mlp_model.predict(X_test)\n",
        "\n",
        "    train_err.append(np.mean(y_train != y_train_pred))\n",
        "    test_err.append(np.mean(y_test != y_test_pred))\n",
        "    train_acc.append(accuracy_score(y_train, y_train_pred))\n",
        "    test_acc.append(accuracy_score(y_test, y_test_pred))"
      ]
    },
    {
      "cell_type": "code",
      "execution_count": 54,
      "id": "30945161",
      "metadata": {
        "colab": {
          "base_uri": "https://localhost:8080/",
          "height": 490
        },
        "id": "30945161",
        "outputId": "ef634ae8-5627-4d8b-c8af-e80510f43a40"
      },
      "outputs": [
        {
          "output_type": "execute_result",
          "data": {
            "text/plain": [
              "<matplotlib.legend.Legend at 0x7d08a94e2e90>"
            ]
          },
          "metadata": {},
          "execution_count": 54
        },
        {
          "output_type": "display_data",
          "data": {
            "text/plain": [
              "<Figure size 640x480 with 1 Axes>"
            ],
            "image/png": "[encoded data removed]"
          },
          "metadata": {}
        }
      ],
      "source": [
        "plt.plot(neuron_arr, train_err, 'b-o', label = 'train')\n",
        "plt.plot(neuron_arr, test_err, 'r-o', label = 'test')\n",
        "plt.xlim([np.min(neuron_arr), np.max(neuron_arr)])\n",
        "plt.title('Error vs. neuron')\n",
        "plt.xlabel('neuron')\n",
        "plt.ylabel('error')\n",
        "plt.legend()"
      ]
    },
    {
      "cell_type": "code",
      "execution_count": 55,
      "id": "0de1676f",
      "metadata": {
        "scrolled": true,
        "colab": {
          "base_uri": "https://localhost:8080/",
          "height": 490
        },
        "id": "0de1676f",
        "outputId": "ce88cef3-aaa7-4aa5-c957-902b22a42b13"
      },
      "outputs": [
        {
          "output_type": "execute_result",
          "data": {
            "text/plain": [
              "<matplotlib.legend.Legend at 0x7d0863e52110>"
            ]
          },
          "metadata": {},
          "execution_count": 55
        },
        {
          "output_type": "display_data",
          "data": {
            "text/plain": [
              "<Figure size 640x480 with 1 Axes>"
            ],
            "image/png": "[encoded data removed]"
          },
          "metadata": {}
        }
      ],
      "source": [
        "plt.plot(neuron_arr, train_acc, 'b-o', label = 'train')\n",
        "plt.plot(neuron_arr, test_acc, 'r-o', label = 'test')\n",
        "plt.xlim([np.min(neuron_arr), np.max(neuron_arr)])\n",
        "plt.title('Accuracy vs. neuron')\n",
        "plt.xlabel('neuron')\n",
        "plt.ylabel('Accuracy')\n",
        "plt.legend()"
      ]
    },
    {
      "cell_type": "markdown",
      "id": "7ef6b60e",
      "metadata": {
        "id": "7ef6b60e"
      },
      "source": [
        "С ростом числа нейронов наблюдается увеличение точности"
      ]
    },
    {
      "cell_type": "code",
      "execution_count": 56,
      "id": "4a0b9a7a",
      "metadata": {
        "colab": {
          "base_uri": "https://localhost:8080/"
        },
        "id": "4a0b9a7a",
        "outputId": "d7aa0110-94a1-4789-8a25-1cf2d478a8be"
      },
      "outputs": [
        {
          "output_type": "stream",
          "name": "stdout",
          "text": [
            "Минимальное значение ошибки: 0.029452715004819535 0.04642570281124498\n"
          ]
        }
      ],
      "source": [
        "min_train_err = np.min(train_err)\n",
        "min_test_err = np.min(test_err)\n",
        "print('Минимальное значение ошибки:',min_train_err, min_test_err)"
      ]
    },
    {
      "cell_type": "code",
      "execution_count": 57,
      "id": "11cf1b1d",
      "metadata": {
        "scrolled": true,
        "colab": {
          "base_uri": "https://localhost:8080/"
        },
        "id": "11cf1b1d",
        "outputId": "b542cb96-3918-4fb4-d56e-f68b1a3f8166"
      },
      "outputs": [
        {
          "output_type": "stream",
          "name": "stdout",
          "text": [
            "Оптимальное количество нейронов: 46\n"
          ]
        }
      ],
      "source": [
        "neuron_opt = neuron_arr[test_err == min_test_err][0]\n",
        "print('Оптимальное количество нейронов:',neuron_opt)"
      ]
    },
    {
      "cell_type": "markdown",
      "id": "0a345b81",
      "metadata": {
        "id": "0a345b81"
      },
      "source": [
        "## Классификатор при найденных параметрах (alpha и кол-во нейронов)"
      ]
    },
    {
      "cell_type": "code",
      "execution_count": 58,
      "id": "92da7a25",
      "metadata": {
        "colab": {
          "base_uri": "https://localhost:8080/"
        },
        "id": "92da7a25",
        "outputId": "a06085da-9415-4d91-9c0b-c97724242f79"
      },
      "outputs": [
        {
          "output_type": "stream",
          "name": "stdout",
          "text": [
            "Итоговая точность:\n",
            "0.9719395951590447\n",
            "0.957429718875502\n"
          ]
        }
      ],
      "source": [
        "mlp_model = MLPClassifier(alpha = alpha_opt, hidden_layer_sizes = (neuron_opt,),\n",
        "                          solver = 'lbfgs', activation = 'logistic', random_state = 40, max_iter=10000)\n",
        "mlp_model.fit(X_train, y_train)\n",
        "\n",
        "y_train_pred = mlp_model.predict(X_train)\n",
        "y_test_pred = mlp_model.predict(X_test)\n",
        "print('Итоговая точность:')\n",
        "print(accuracy_score(y_train, y_train_pred))\n",
        "print(accuracy_score(y_test, y_test_pred))"
      ]
    },
    {
      "cell_type": "markdown",
      "id": "aaf334ab",
      "metadata": {
        "id": "aaf334ab"
      },
      "source": [
        "## Матрица рассогласования:"
      ]
    },
    {
      "cell_type": "code",
      "execution_count": 59,
      "id": "b9c61ed7",
      "metadata": {
        "colab": {
          "base_uri": "https://localhost:8080/",
          "height": 467
        },
        "id": "b9c61ed7",
        "outputId": "80f00873-afe6-4bc1-a991-92192f7c01ce"
      },
      "outputs": [
        {
          "output_type": "execute_result",
          "data": {
            "text/plain": [
              "<sklearn.metrics._plot.confusion_matrix.ConfusionMatrixDisplay at 0x7d0864079150>"
            ]
          },
          "metadata": {},
          "execution_count": 59
        },
        {
          "output_type": "display_data",
          "data": {
            "text/plain": [
              "<Figure size 640x480 with 2 Axes>"
            ],
            "image/png": "[encoded data removed]"
          },
          "metadata": {}
        }
      ],
      "source": [
        "from sklearn.metrics import ConfusionMatrixDisplay\n",
        "from sklearn.metrics import confusion_matrix\n",
        "disp=ConfusionMatrixDisplay(confusion_matrix(y_test_pred, y_test))\n",
        "disp.plot()"
      ]
    },
    {
      "cell_type": "markdown",
      "id": "ce4a0824",
      "metadata": {
        "id": "ce4a0824"
      },
      "source": [
        "## Выводы:"
      ]
    },
    {
      "cell_type": "markdown",
      "id": "e43e2514",
      "metadata": {
        "id": "e43e2514"
      },
      "source": [
        "\n",
        "*   В однослойной нейронной сети с относительно небольшим\n",
        "кол-ом нейронов(46) и опт. параметром  удалось добиться высокой точности (0.97 и 0.95). Получилось несколько меньше, чем в KNN (0.97 и 0.96).\n",
        "*   Ни недообучения, ни переобучения не наблюдалось ни на одном из этапов подбора оптимальных параметров.\n",
        "\n"
      ]
    }
  ],
  "metadata": {
    "kernelspec": {
      "display_name": "Python 3",
      "language": "python",
      "name": "python3"
    },
    "language_info": {
      "codemirror_mode": {
        "name": "ipython",
        "version": 3
      },
      "file_extension": ".py",
      "mimetype": "text/x-python",
      "name": "python",
      "nbconvert_exporter": "python",
      "pygments_lexer": "ipython3",
      "version": "3.8.8"
    },
    "colab": {
      "provenance": []
    }
  },
  "nbformat": 4,
  "nbformat_minor": 5
}